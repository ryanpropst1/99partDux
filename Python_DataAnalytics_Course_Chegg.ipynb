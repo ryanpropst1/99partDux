{
  "nbformat": 4,
  "nbformat_minor": 0,
  "metadata": {
    "colab": {
      "provenance": [],
      "authorship_tag": "ABX9TyN9tlLptk02qQHif9ttFJwf",
      "include_colab_link": true
    },
    "kernelspec": {
      "name": "python3",
      "display_name": "Python 3"
    },
    "language_info": {
      "name": "python"
    }
  },
  "cells": [
    {
      "cell_type": "markdown",
      "metadata": {
        "id": "view-in-github",
        "colab_type": "text"
      },
      "source": [
        "<a href=\"https://colab.research.google.com/github/ryanpropst1/99partDux/blob/master/Python_DataAnalytics_Course_Chegg.ipynb\" target=\"_parent\"><img src=\"https://colab.research.google.com/assets/colab-badge.svg\" alt=\"Open In Colab\"/></a>"
      ]
    },
    {
      "cell_type": "code",
      "source": [
        "store_state = [\"TN\",\"KY\". \"GA\", \"AL\" ]"
      ],
      "metadata": {
        "colab": {
          "base_uri": "https://localhost:8080/",
          "height": 160
        },
        "id": "EK6yusO5zbjs",
        "outputId": "85dc51c8-c7ae-4485-a07f-72818567277d"
      },
      "execution_count": null,
      "outputs": [
        {
          "output_type": "error",
          "ename": "SyntaxError",
          "evalue": "invalid syntax (<ipython-input-2-7e41d2072c53>, line 1)",
          "traceback": [
            "\u001b[0;36m  File \u001b[0;32m\"<ipython-input-2-7e41d2072c53>\"\u001b[0;36m, line \u001b[0;32m1\u001b[0m\n\u001b[0;31m    store_state = [\"TN\",\"KY\". \"GA\", \"AL\" ]\u001b[0m\n\u001b[0m                              ^\u001b[0m\n\u001b[0;31mSyntaxError\u001b[0m\u001b[0;31m:\u001b[0m invalid syntax\n"
          ]
        }
      ]
    },
    {
      "cell_type": "code",
      "source": [
        "store_state = [\"TN\",\"KY\",\"GA\",\"AL\"]\n",
        "\n",
        "print(store_state[0])\n",
        "\n",
        "store_state.append(\"FL\")\n",
        "\n",
        "store_state.insert(0,\"NC\")\n",
        "\n",
        "print(store_state[0:])\n",
        "\n",
        "store_state.reverse()\n",
        "\n",
        "print(store_state)\n",
        "\n",
        "store_state.append(\"WI\")\n",
        "\n",
        "store_state.sort()\n",
        "\n",
        "print(store_state)\n",
        "\n",
        "\n",
        "\n"
      ],
      "metadata": {
        "colab": {
          "base_uri": "https://localhost:8080/"
        },
        "id": "crI9mxif12F_",
        "outputId": "a3b377ef-a476-4aff-aa5d-57dc17c6fa5d"
      },
      "execution_count": null,
      "outputs": [
        {
          "output_type": "stream",
          "name": "stdout",
          "text": [
            "TN\n",
            "['NC', 'TN', 'KY', 'GA', 'AL', 'FL']\n",
            "['FL', 'AL', 'GA', 'KY', 'TN', 'NC']\n"
          ]
        }
      ]
    },
    {
      "cell_type": "code",
      "source": [
        "store_state = [\"TN\",\"KY\",\"GA\",\"AL\"]\n",
        "\n",
        "print(store_state[0])\n",
        "\n",
        "store_state.append(\"FL\")\n",
        "\n",
        "store_state.insert(0,\"NC\")\n",
        "\n",
        "print(store_state[0:])\n",
        "\n",
        "store_state.reverse()\n",
        "\n",
        "print(store_state)\n",
        "\n",
        "store_state.append(\"WI\")\n",
        "\n",
        "store_state.sort(reverse=True)\n",
        "\n",
        "print(store_state)\n",
        "\n",
        "store_state.sort()\n",
        "\n",
        "print(store_state)\n",
        "\n",
        "store_state.remove(\"AL\")\n",
        "\n",
        "print(store_state)\n",
        "\n",
        "store_state.count(\"FL\")\n"
      ],
      "metadata": {
        "colab": {
          "base_uri": "https://localhost:8080/"
        },
        "outputId": "199283b3-0fb5-494f-ae5b-b347723c2639",
        "id": "gybptOtRAkO8"
      },
      "execution_count": null,
      "outputs": [
        {
          "output_type": "stream",
          "name": "stdout",
          "text": [
            "TN\n",
            "['NC', 'TN', 'KY', 'GA', 'AL', 'FL']\n",
            "['FL', 'AL', 'GA', 'KY', 'TN', 'NC']\n",
            "['WI', 'TN', 'NC', 'KY', 'GA', 'FL', 'AL']\n",
            "['AL', 'FL', 'GA', 'KY', 'NC', 'TN', 'WI']\n",
            "['FL', 'GA', 'KY', 'NC', 'TN', 'WI']\n"
          ]
        },
        {
          "output_type": "execute_result",
          "data": {
            "text/plain": [
              "1"
            ]
          },
          "metadata": {},
          "execution_count": 22
        }
      ]
    },
    {
      "cell_type": "code",
      "source": [
        "employee_info = {'last_name':\"AJ\", 'emp_id':19620329, 'dept':'grocery', 'employment_length':4}\n",
        "\n",
        "employee_info.update({'location':\"St. Petersberg\"})\n",
        "\n",
        "print(employee_info)\n",
        "\n",
        "print(employee_info['last_name'])\n",
        "\n",
        "employee_info.update({'Level':\"Manager\"})\n",
        "\n",
        "#print(employee_info)\n",
        "\n",
        "del employee_info['dept']\n",
        "print(employee_info)\n",
        "\n",
        "# dictionary_name.clear()\n",
        "\n",
        "print(employee_info.get('location'))\n",
        "\n",
        "emp_id_severance = employee_info.pop('emp_id')\n",
        "\n",
        "print(emp_id_severance)\n",
        "print(employee_info)\n",
        "\n"
      ],
      "metadata": {
        "colab": {
          "base_uri": "https://localhost:8080/"
        },
        "id": "AVkH-ZN-Rsdx",
        "outputId": "adfecd83-6ae3-43d0-b3b6-e632e0d9f26a"
      },
      "execution_count": null,
      "outputs": [
        {
          "output_type": "stream",
          "name": "stdout",
          "text": [
            "{'last_name': 'AJ', 'emp_id': 19620329, 'dept': 'grocery', 'employment_length': 4, 'location': 'St. Petersberg'}\n",
            "AJ\n",
            "{'last_name': 'AJ', 'emp_id': 19620329, 'employment_length': 4, 'location': 'St. Petersberg', 'Level': 'Manager'}\n",
            "St. Petersberg\n",
            "19620329\n",
            "{'last_name': 'AJ', 'employment_length': 4, 'location': 'St. Petersberg', 'Level': 'Manager'}\n"
          ]
        }
      ]
    },
    {
      "cell_type": "code",
      "source": [
        "emp_years = [3,5,2,1,11,1,2,10]\n",
        "\n",
        "for emp_benefit_level in emp_years:\n",
        "  if emp_benefit_level < 2:\n",
        "    continue\n",
        "    print(emp_benefit_level)"
      ],
      "metadata": {
        "id": "qp4bW9mN6rUI"
      },
      "execution_count": null,
      "outputs": []
    },
    {
      "cell_type": "code",
      "source": [
        "#Python For Loop\n",
        "\n",
        "emp_yrs = [3,7,2,1,0,1,2,10]\n",
        "\n",
        "#for new_var in squence_var\n",
        "#perform task using new_var\n",
        "\n",
        "#for emp_bene_level in emp_yrs:\n",
        "  #print(emp_bene_level)\n",
        "\n",
        "for emp_bene_level in emp_yrs:\n",
        "  if emp_bene_level < 2:\n",
        "    continue\n",
        "    print(emp_bene_level)\n",
        "\n",
        "for emp_bene_level in emp_yrs:\n",
        " #print(f\"(emp_bene_level) is the employee who has worked here less than a year.\" )\n",
        " print(emp_bene_level)\n",
        " if emp_bene_level == 0:\n",
        "    break\n"
      ],
      "metadata": {
        "colab": {
          "base_uri": "https://localhost:8080/"
        },
        "id": "UbtPtDIg2tiU",
        "outputId": "13f20437-4e9e-4184-aab9-08cfdfc905e4"
      },
      "execution_count": null,
      "outputs": [
        {
          "output_type": "stream",
          "name": "stdout",
          "text": [
            "3\n",
            "7\n",
            "2\n",
            "1\n",
            "0\n"
          ]
        }
      ]
    },
    {
      "cell_type": "code",
      "source": [
        "fruit_inventory = ['apples', 'pears', 'cherries', 'grapes', 'kiwis']\n",
        "\n",
        "for fruit in fruit_inventory:\n",
        "\n",
        "  if fruit == 'pears' or fruit == 'kiwis':\n",
        "\n",
        "    print(fruit)"
      ],
      "metadata": {
        "colab": {
          "base_uri": "https://localhost:8080/"
        },
        "id": "KTJnA8N-_A8C",
        "outputId": "23319682-d21f-4458-af89-8eea9c30cf44"
      },
      "execution_count": null,
      "outputs": [
        {
          "output_type": "stream",
          "name": "stdout",
          "text": [
            "pears\n",
            "kiwis\n"
          ]
        }
      ]
    },
    {
      "cell_type": "code",
      "source": [
        "\n",
        "day_apps = [3, 4, 7, 5, 3, 5, 0, 4, 2, 5, 6, 7, 4, 2]\n",
        "\n",
        "# While Loops\n",
        "\n",
        "# Assign and initialize variables\n",
        "\n",
        "week_apps_sum = 0\n",
        "week_days = 0  # Loop counter\n",
        "\n",
        "while week_days <7: # Loop Condition & Conditional Code flow logic#\n",
        "  print(\"Index position:\", week_days, \"Day App Data:\", day_apps[week_days], \"Iterating Sum:\", week_apps_sum)\n",
        "  week_apps_sum = week_apps_sum + day_apps[week_days]\n",
        "  week_days += 1\n",
        "\n",
        "print (week_apps_sum)\n",
        "\n",
        "week_apps_sum = 0\n",
        "week_days = 7  # Loop counter\n",
        "\n",
        "while week_days <14: # Loop Condition & Conditional Code flow logic#\n",
        "  print(\"Index position:\", week_days, \"Day App Data:\", day_apps[week_days], \"Iterating Sum:\", week_apps_sum)\n",
        "  week_apps_sum = week_apps_sum + day_apps[week_days]\n",
        "  week_days += 1\n",
        "\n",
        "print (week_apps_sum)\n",
        "\n",
        "\n",
        "\n",
        "\n",
        "department_numbers = [234, 574, 489, 297, 351, 732, 931]\n",
        "\n",
        "item_count = 0\n",
        "\n",
        "while item_count <5:\n",
        "\n",
        "  print(department_numbers[item_count])\n",
        "\n",
        "  item_count += 1"
      ],
      "metadata": {
        "colab": {
          "base_uri": "https://localhost:8080/"
        },
        "id": "LFncr8FqnYWr",
        "outputId": "1df24168-17e3-4743-d230-dac02ea1b2c6"
      },
      "execution_count": null,
      "outputs": [
        {
          "output_type": "stream",
          "name": "stdout",
          "text": [
            "Index position: 0 Day App Data: 3 Iterating Sum: 0\n",
            "Index position: 1 Day App Data: 4 Iterating Sum: 3\n",
            "Index position: 2 Day App Data: 7 Iterating Sum: 7\n",
            "Index position: 3 Day App Data: 5 Iterating Sum: 14\n",
            "Index position: 4 Day App Data: 3 Iterating Sum: 19\n",
            "Index position: 5 Day App Data: 5 Iterating Sum: 22\n",
            "Index position: 6 Day App Data: 0 Iterating Sum: 27\n",
            "27\n",
            "Index position: 7 Day App Data: 4 Iterating Sum: 0\n",
            "Index position: 8 Day App Data: 2 Iterating Sum: 4\n",
            "Index position: 9 Day App Data: 5 Iterating Sum: 6\n",
            "Index position: 10 Day App Data: 6 Iterating Sum: 11\n",
            "Index position: 11 Day App Data: 7 Iterating Sum: 17\n",
            "Index position: 12 Day App Data: 4 Iterating Sum: 24\n",
            "Index position: 13 Day App Data: 2 Iterating Sum: 28\n",
            "30\n",
            "234\n",
            "574\n",
            "489\n",
            "297\n",
            "351\n"
          ]
        }
      ]
    },
    {
      "cell_type": "code",
      "source": [
        "day_apps = [3, 4, 7, 5, 3, 5, 0, 4, 2, 5, 6, 7, 4, 2]\n",
        "\n",
        "\n",
        "week_apps_sum = 0\n",
        "week_days = 0\n",
        "\n",
        "while week_days <=13:\n",
        "  print(\"Index position:\", week_days, \"Day App Data:\", day_apps[week_days], \"Iterating Sum:\", week_apps_sum)\n",
        "  week_apps_sum = week_apps_sum + day_apps [week_days]\n",
        "  if week_apps_sum >= 50:\n",
        "    break\n",
        "  week_days += 1\n",
        "\n",
        "\n",
        "print (week_apps_sum)\n",
        "\n",
        "\n",
        "num_days = 0\n",
        "week_days = 0\n",
        "\n",
        "while week_days <7:\n",
        "\n",
        "  if day_apps[week_days] <5:\n",
        "    week_days += 1\n",
        "    continue\n",
        "\n",
        "  num_days += 1\n",
        "  week_days += 1\n",
        "\n",
        "print (num_days)"
      ],
      "metadata": {
        "colab": {
          "base_uri": "https://localhost:8080/"
        },
        "id": "IeNE1zYy7KsJ",
        "outputId": "51e0b503-efc5-4748-cee5-874c74650c39"
      },
      "execution_count": null,
      "outputs": [
        {
          "output_type": "stream",
          "name": "stdout",
          "text": [
            "Index position: 0 Day App Data: 3 Iterating Sum: 0\n",
            "Index position: 1 Day App Data: 4 Iterating Sum: 3\n",
            "Index position: 2 Day App Data: 7 Iterating Sum: 7\n",
            "Index position: 3 Day App Data: 5 Iterating Sum: 14\n",
            "Index position: 4 Day App Data: 3 Iterating Sum: 19\n",
            "Index position: 5 Day App Data: 5 Iterating Sum: 22\n",
            "Index position: 6 Day App Data: 0 Iterating Sum: 27\n",
            "Index position: 7 Day App Data: 4 Iterating Sum: 27\n",
            "Index position: 8 Day App Data: 2 Iterating Sum: 31\n",
            "Index position: 9 Day App Data: 5 Iterating Sum: 33\n",
            "Index position: 10 Day App Data: 6 Iterating Sum: 38\n",
            "Index position: 11 Day App Data: 7 Iterating Sum: 44\n",
            "51\n",
            "3\n"
          ]
        }
      ]
    },
    {
      "cell_type": "code",
      "source": [
        "#pip list\n",
        "\n",
        "#pip install emoji\n",
        "\n",
        "#import matplotlib as mpl\n",
        "import numpy as np\n",
        "#import pandas as pd\n",
        "#import seaborn as sns\n",
        "#import sqlalchemy as sa\n",
        "\n",
        "import numpy\n",
        "numpy.random.random()\n",
        "print(numpy.random.random())\n",
        "\n",
        "import numpy as np\n",
        "np.random.random()\n",
        "print(np.random.random())\n",
        "\n",
        "import numpy.random as np\n",
        "np.random()\n",
        "print(np.random())\n",
        "\n",
        "\n",
        "\n",
        "\n"
      ],
      "metadata": {
        "colab": {
          "base_uri": "https://localhost:8080/"
        },
        "id": "-Cf_40HxV_bd",
        "outputId": "374c0573-df6b-483d-cd9a-27befb4eab7b"
      },
      "execution_count": null,
      "outputs": [
        {
          "output_type": "stream",
          "name": "stdout",
          "text": [
            "0.1888250095859716\n",
            "0.1186246690781444\n",
            "0.26876923061791014\n"
          ]
        }
      ]
    },
    {
      "cell_type": "code",
      "source": [
        "import matplotlib as mpl\n",
        "import numpy as np\n",
        "import pandas as pd\n",
        "import seaborn as sns\n",
        "import sqlalchemy as sa\n",
        "\n",
        "\n",
        "training_hours = np.array([3, 4, 2, 5, 29, 1, 5])\n",
        "\n",
        "num_products = [[3, 5, 8, 9, 12],[5, 1, 3, 14, 7]]\n",
        "\n",
        "\n",
        "import numpy as np\n",
        "prod_sales_array = np.array([5, 8, 3, 7, 10])\n",
        "print (prod_sales_array)\n",
        "\n",
        "import numpy as np\n",
        "prod_sales_array_2 = np.array([[5, 8, 3, 7, 10], [7, 3, 5, 12, 9], [4, 11, 10, 2, 14]])\n",
        "print (prod_sales_array_2)\n",
        "\n",
        "np.ndim(prod_sales_array_2)\n",
        "print(np.ndim(prod_sales_array_2))\n",
        "\n",
        "np.shape(prod_sales_array_2)\n",
        "print(np.shape(prod_sales_array_2))\n",
        "\n",
        "np.size(prod_sales_array_2)\n",
        "print(np.size(prod_sales_array_2))\n",
        "\n",
        "print(prod_sales_array_2.dtype)\n",
        "\n",
        "\n",
        "\n",
        "\n",
        "\n",
        "\n",
        "\n",
        "\n",
        "\n"
      ],
      "metadata": {
        "id": "4Xr8bNoinV6Y",
        "colab": {
          "base_uri": "https://localhost:8080/"
        },
        "outputId": "986b2859-c35b-4be0-a96f-11af6f14ac15"
      },
      "execution_count": null,
      "outputs": [
        {
          "output_type": "stream",
          "name": "stdout",
          "text": [
            "[ 5  8  3  7 10]\n",
            "[[ 5  8  3  7 10]\n",
            " [ 7  3  5 12  9]\n",
            " [ 4 11 10  2 14]]\n",
            "2\n",
            "(3, 5)\n",
            "15\n",
            "int64\n"
          ]
        }
      ]
    }
  ]
}